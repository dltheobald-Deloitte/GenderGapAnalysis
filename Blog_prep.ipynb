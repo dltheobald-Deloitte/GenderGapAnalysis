{
 "cells": [
  {
   "cell_type": "markdown",
   "metadata": {},
   "source": [
    "<h2 id='part1'>Project 1: Blog</h2>\n",
    "Looking into the population of the stack Overflow data, I wanted to look at the differences between men and women.\n",
    "\n",
    "\n",
    "__The questions that I want to answer are:__\n",
    "<br> a) How big is the disparity in pay between men and women?\n",
    "<br> b) How does having children impact progression?\n",
    "<br> c) Women in STEM… Is there really an obstacle? (i.e is it harder for women to break into?)\n",
    "\n",
    "I thought a good place to start was looking at the what the breakdown of the population was by gender.\n",
    "For that I needed to read in the data:\n",
    " \n",
    " \n",
    " Licence info:\n",
    "This database - The Public 2018 Stack Overflow Developer Survey Results - is made available under the Open Database License (ODbL): http://opendatacommons.org/licenses/odbl/1.0/. Any rights in individual contents of the database are licensed under the Database Contents License: http://opendatacommons.org/licenses/dbcl/1.0/\n"
   ]
  },
  {
   "cell_type": "code",
   "execution_count": 1,
   "metadata": {
    "scrolled": true
   },
   "outputs": [
    {
     "name": "stderr",
     "output_type": "stream",
     "text": [
      "C:\\Users\\dltheobald\\AppData\\Local\\Continuum\\anaconda3\\lib\\site-packages\\IPython\\core\\interactiveshell.py:3057: DtypeWarning: Columns (8,12,13,14,15,16,50,51,52,53,55,56,57,58,59,60,61,62,63,64,65,66,67,68,69,70,71,72,73,74,75,76,77,78,79,80,81,82,83,84,85,93,94,95,96,97,98,99,100,101,102,103,104,105,106,107,108,109,110,111,112,113,114,115,116,117,118,119,120,121,122,123,124,125,126,127,128) have mixed types. Specify dtype option on import or set low_memory=False.\n",
      "  interactivity=interactivity, compiler=compiler, result=result)\n"
     ]
    }
   ],
   "source": [
    "#importing pakcages needed for the project\n",
    "\n",
    "import numpy as np\n",
    "import pandas as pd\n",
    "\n",
    "import os\n",
    "\n",
    "from sklearn.model_selection import train_test_split\n",
    "from sklearn.ensemble import RandomForestRegressor\n",
    "from sklearn.metrics import r2_score\n",
    "\n",
    "import matplotlib.pyplot as plt\n",
    "%matplotlib inline\n",
    "\n",
    "\n",
    "#Reading in the StackOverflow Developer Survey data\n",
    "file_path = os.path.join(os.getcwd(),r\"StackOverflow_Data\\2018\\survey_results_public.csv\")\n",
    "\n",
    "df=pd.read_csv(file_path)\n",
    "\n",
    "\n",
    "#Selecting columns needed for the analysis - started with just Gender and added these slowly as my analysis below needed.\n",
    "cols = ['CareerSatisfaction','JobSatisfaction', 'CompanySize',\n",
    "        'Country','Gender','Age','ConvertedSalary',\n",
    "        'UndergradMajor','YearsCoding','Dependents']\n",
    "\n",
    "\n",
    "df_personal = df[cols]\n"
   ]
  },
  {
   "cell_type": "code",
   "execution_count": 2,
   "metadata": {
    "scrolled": true
   },
   "outputs": [
    {
     "name": "stdout",
     "output_type": "stream",
     "text": [
      "Male: 91.68%\n",
      "Female: 6.76%\n",
      "Non-binary, genderqueer, or gender non-conforming: 0.91%\n",
      "Transgender: 0.65%\n"
     ]
    }
   ],
   "source": [
    "#Outputting metrics on gender breakdown\n",
    "\n",
    "#Defined a function to convert multiple choice columns into a usable output\n",
    "def split_and_stack(df_orig, col, sep):\n",
    "    \n",
    "    \"\"\"This splits multiple choice answers within a column into multiple columns, then converts them back into extra rows\n",
    "    so each option selected by 1 user will be on a new row, meaning that the popultion can be analysed.\n",
    "    \n",
    "    Steps:\n",
    "    1) Splits a single column in a dataframe into multiple columns (/levels), using a defined seperator.\n",
    "    2) Stacks these extra column entries into rows, but shows indexes of extra levels which the data was split over.\n",
    "    3) Extra levels / generated columns are then dropped.\n",
    "    4) Renames the last column as the Orignal column name.\n",
    "    \n",
    "    Parameters:\n",
    "    df_orig (pandas.DataFrame): A DataFrame containing columns with multiple choice answers.\n",
    "    col (string): The column which requires multiple choice answers to be split.\n",
    "    sep (string): The seperator which the column (col) mentioned above needs to be split over.\n",
    "\n",
    "    Returns:\n",
    "    pandas.DataFrame:Returning a DataFrame of the total population with extra rows (multiple for the same index) \n",
    "    for multiple choice responses.\n",
    "    \n",
    "    \"\"\"\n",
    "    new_df = df_orig[col].str.split(sep,expand=True).stack().to_frame().reset_index()\n",
    "    new_df = new_df.drop(['level_0','level_1'], axis=1)\n",
    "    new_df.columns = [col]\n",
    "    \n",
    "    return new_df\n",
    "\n",
    "\n",
    "#splitting the data into usable rows, see function defined above (preparing the data)\n",
    "df_gender = split_and_stack(df_personal, 'Gender', ';')\n",
    "\n",
    "\n",
    "#Grouping by and calculating Gender breakdowns. \n",
    "#Groupby disregards null Gender values so these are removed, don't want to see them as doesn't give us information about gende rpopulation\n",
    "gender = df_gender.groupby('Gender')['Gender'].count().sort_values(ascending=False)/len(df_gender)\n",
    "gender_stats = zip(list(gender.index),list(gender))\n",
    "\n",
    "\n",
    "#Printing stats in percentage form\n",
    "for gender in gender_stats:\n",
    "    print(gender[0] + \": \" +\"{:.2%}\".format(gender[1]))\n",
    "    \n"
   ]
  },
  {
   "cell_type": "markdown",
   "metadata": {},
   "source": [
    "### Question 1: How big is the disparity in pay between men and women?\n",
    "Looking at the stark differences in population size, I wondered what else was different about the populations between men and women.\n",
    "Something regularly in the media, the gender pay gap, can be detrimental to the view of professions / businesses and I wanted to assess how big the impact on pay is."
   ]
  },
  {
   "cell_type": "code",
   "execution_count": 3,
   "metadata": {},
   "outputs": [
    {
     "data": {
      "image/png": "[encoded data removed]",
      "text/plain": [
       "<Figure size 432x288 with 1 Axes>"
      ]
     },
     "metadata": {
      "needs_background": "light"
     },
     "output_type": "display_data"
    }
   ],
   "source": [
    "#Outputting graph to highlight salary differences by percentile.\n",
    "\n",
    "#Splitting data to male only and female only as population sizes are significantly different.\n",
    "\n",
    "#Null values for Gender are removed as we don't know their gender and could skew the results.\n",
    "#Moreover, imputing values wouldn't make sense, we could only use the mode which would just be classifying them all as male.\n",
    "df_male = df_personal.dropna(subset=['Gender'], axis=0)[df_personal.Gender.dropna(axis=0).\\\n",
    "                               apply(lambda x: True if 'Male' in x else False)]\n",
    "\n",
    "df_female = df_personal.dropna(subset=['Gender'],axis=0)[df_personal.Gender.dropna(axis=0).\\\n",
    "                                 apply(lambda x: True if 'Female' in x else False)]\n",
    "\n",
    "    \n",
    "#Finding percentiles of salary for male and female.\n",
    "#THe Quantile function ignores nulll values for ConvertedSalary. If we imputed values, i.e replace null with mean/median)\n",
    "#then this would potentially skew the results and change the distribution below.\n",
    "female_percentiles = [ (i*100, df_female.ConvertedSalary.quantile(i)) for i in np.arange(0,1,0.005) ]\n",
    "male_percentiles = [ (i*100, df_male.ConvertedSalary.quantile(i)) for i in np.arange(0,1,0.005) ]\n",
    "\n",
    "\n",
    "#Separating x and y values for the graph\n",
    "x_female_percentile = [x[0] for x in female_percentiles]\n",
    "y_female_percentile = [y[1] for y in female_percentiles]\n",
    "\n",
    "x_male_percentile = [x[0] for x in male_percentiles]\n",
    "y_male_percentile = [y[1] for y in male_percentiles]\n",
    "\n",
    "\n",
    "#setting graph limits x and y limits and labelling axis\n",
    "plt.ylim((50000,200000))\n",
    "plt.ylabel('Salary (USD)')\n",
    "plt.xlabel('Percentile')\n",
    "plt.xlim((50,100))\n",
    "\n",
    "plt.plot(x_female_percentile, y_female_percentile, label = 'Female')\n",
    "plt.plot(x_male_percentile, y_male_percentile, label = 'Male')\n",
    "plt.legend(loc='upper left', prop={'size':10})\n",
    "\n",
    "#Saving file\n",
    "plt.savefig(os.path.join(os.getcwd(),'Pay_gap.png'),bbox_inches='tight')"
   ]
  },
  {
   "cell_type": "markdown",
   "metadata": {},
   "source": [
    "It is clear from the graph below that there is a significant difference between men and women in high paying roles.\n",
    "<br>\n",
    "<br> This prompted another question, if women are paid less, does this affect their satisfaction in their current role?"
   ]
  },
  {
   "cell_type": "code",
   "execution_count": 4,
   "metadata": {},
   "outputs": [
    {
     "data": {
      "image/png": "[encoded data removed]",
      "text/plain": [
       "<Figure size 432x288 with 1 Axes>"
      ]
     },
     "metadata": {
      "needs_background": "light"
     },
     "output_type": "display_data"
    }
   ],
   "source": [
    "#Outputting graph of job satisfaction by gender\n",
    "\n",
    "#Re-casting the JobSatisfaction to Ordered Category as this data is ordered and is needed to correctly order the output\n",
    "df_male['JobSatisfaction']=df_male['JobSatisfaction']\\\n",
    "                                    .astype(pd.api.types.CategoricalDtype(\n",
    "                                            categories=['Extremely dissatisfied','Moderately dissatisfied',\n",
    "                                                        'Slightly dissatisfied','Neither satisfied nor dissatisfied',\n",
    "                                                        'Slightly satisfied','Moderately satisfied','Extremely satisfied'],\n",
    "                                            ordered=True))\n",
    "\n",
    "df_female['JobSatisfaction']=df_female['JobSatisfaction']\\\n",
    "                                    .astype(pd.api.types.CategoricalDtype(\n",
    "                                            categories=['Extremely dissatisfied','Moderately dissatisfied',\n",
    "                                                        'Slightly dissatisfied','Neither satisfied nor dissatisfied',\n",
    "                                                        'Slightly satisfied','Moderately satisfied','Extremely satisfied'],\n",
    "                                            ordered=True))\n",
    "\n",
    "    \n",
    "#Finding percentage breakdown for career satisfaction. Count/Groupby function ignores nulll values for CareerSatisfaction\n",
    "#Since we just want population distribution, it makes sense to ignore these.\n",
    "female_job_sat = df_female.groupby('JobSatisfaction').JobSatisfaction.count().sort_index()/len(df_female)\n",
    "male_job_sat = df_male.groupby('JobSatisfaction').JobSatisfaction.count().sort_index()/len(df_male)\n",
    "\n",
    "\n",
    "#Formatting and generating a graph\n",
    "plt.ylabel('Proportion')\n",
    "plt.xticks(rotation=90)\n",
    "\n",
    "plt.plot(list(female_job_sat.index), list(female_job_sat), label = 'Female')\n",
    "plt.plot(list(male_job_sat.index), list(male_job_sat), label = 'Male')\n",
    "plt.legend(loc='upper left', prop={'size':10})\n",
    "\n",
    "plt.savefig(os.path.join(os.getcwd(),'Gender_job_satisfaction.png'),bbox_inches='tight')"
   ]
  },
  {
   "cell_type": "markdown",
   "metadata": {},
   "source": [
    "Even though the above indicates men may be slightly more satisfied with their jobs, the distribtuion is generally the same and I would say satisfaction for both genders is pretty similar.\n",
    "<br>\n",
    "<br> This didn't seem intuitive to me, so I explicitly looked at the salaries by Job Satisfaction for both genders to get a better understanding."
   ]
  },
  {
   "cell_type": "code",
   "execution_count": 5,
   "metadata": {},
   "outputs": [
    {
     "data": {
      "image/png": "[encoded data removed]",
      "text/plain": [
       "<Figure size 432x288 with 1 Axes>"
      ]
     },
     "metadata": {
      "needs_background": "light"
     },
     "output_type": "display_data"
    }
   ],
   "source": [
    "#Outputting a graph of the salary for men and women by job satisfaction breakdown\n",
    "\n",
    "#Mean function ignores nulll values for ConvertedSalary. Groupby function ignores nulll values for CareerSatisfaction.\n",
    "\n",
    "#Since we want mean Salary values, imputing median may skew this figure with large numbers of nulls and mean wouldn't affect this, so ignoring.\n",
    "#We also want this figure to be consistent with graph above, so not imputing JobSatisfaction values.\n",
    "female_job_sat_mean = df_female.groupby('JobSatisfaction').ConvertedSalary.mean().sort_index()\n",
    "male_job_sat_mean = df_male.groupby('JobSatisfaction').ConvertedSalary.mean().sort_index()\n",
    "\n",
    "\n",
    "#Formatting and generating a graph\n",
    "plt.title('Mean Salary by Satisfaction')\n",
    "plt.ylabel('Salary (USD)')\n",
    "plt.xticks(rotation=90)\n",
    "\n",
    "plt.plot(list(female_job_sat_mean.index), list(female_job_sat_mean), label = 'Female')\n",
    "plt.plot(list(male_job_sat_mean.index), list(male_job_sat_mean), label = 'male')\n",
    "\n",
    "plt.legend(loc='upper right', prop={'size':10})\n",
    "plt.savefig(os.path.join(os.getcwd(),'Gender_pay_by_Satisfaction.png'),bbox_inches='tight')"
   ]
  },
  {
   "cell_type": "markdown",
   "metadata": {},
   "source": [
    "The above graph illustrates that salary and JobSatisfaction are not directly correlated, if anything, it suggested higher paid professionals may actually dislike their jobs more!\n",
    "<br>\n",
    "<br> To explain why salaries may be different between men and women, as discovered above, I thought looking into the experience of the individuals would be a better indicator."
   ]
  },
  {
   "cell_type": "code",
   "execution_count": 6,
   "metadata": {},
   "outputs": [
    {
     "data": {
      "image/png": "[encoded data removed]",
      "text/plain": [
       "<Figure size 432x288 with 1 Axes>"
      ]
     },
     "metadata": {
      "needs_background": "light"
     },
     "output_type": "display_data"
    }
   ],
   "source": [
    "#Outputting graph of men and women's 90th percentile salaries by years of experience,\n",
    "\n",
    "#Groupby function ignores null values in YearsCoding, quantile function ignores nulll values for ConvertedSalary\n",
    "#If we imputed the converted salary values, this may shift the distribution, so these are ignored.\n",
    "#Years coding is directly related with age and it may be non-sensical to impute values as this relationship wouldnt be preserved.\n",
    "female_exp_sal = df_female.groupby('YearsCoding').ConvertedSalary.quantile(0.9)\n",
    "male_exp_sal = df_male.groupby('YearsCoding').ConvertedSalary.quantile(0.9)\n",
    "\n",
    "\n",
    "#Ordering points for graph so it's in Experience ascending order\n",
    "female_exp_sal_sort = sorted(list(zip(female_exp_sal.index, female_exp_sal)),key = lambda x: int(x[0].split()[0].split('-')[0]))\n",
    "male_exp_sal_sort = sorted(list(zip(male_exp_sal.index, male_exp_sal)),key = lambda x: int(x[0].split()[0].split('-')[0]))\n",
    "\n",
    "\n",
    "#Separating x and y values for the graph\n",
    "x_female_exp_sal = [x[0] for x in female_exp_sal_sort]\n",
    "y_female_exp_sal = [y[1] for y in female_exp_sal_sort]\n",
    "x_male_exp_sal = [x[0] for x in male_exp_sal_sort]\n",
    "y_male_exp_sal = [y[1] for y in male_exp_sal_sort]\n",
    "\n",
    "\n",
    "#Formatting and generating a graph\n",
    "plt.title('90th Percentile Salary by Experience')\n",
    "plt.ylabel('Salary (USD)')\n",
    "plt.xlabel('Years Coding')\n",
    "plt.xticks(rotation=90)\n",
    "\n",
    "plt.plot(x_female_exp_sal, y_female_exp_sal, label = 'Female')\n",
    "plt.plot(x_male_exp_sal, y_male_exp_sal, label = 'male')\n",
    "\n",
    "plt.legend(loc='upper left', prop={'size':10})\n",
    "plt.savefig(os.path.join(os.getcwd(),'90thpercentile_pay_gap_exp.png'),bbox_inches='tight')\n"
   ]
  },
  {
   "cell_type": "markdown",
   "metadata": {},
   "source": [
    "As expected, the graph above shows how closely correlated experience and salary are. \n",
    "<br>There didn't seem to be a huge difference in this correlation between men and women, so it doesn't really explain why there were bigger pay differences in these higher percentiles.\n",
    "<br>\n",
    "<br> I decided to look at the breakdown of the population by experience, to shed some light on why their salaries may be different:"
   ]
  },
  {
   "cell_type": "code",
   "execution_count": 7,
   "metadata": {},
   "outputs": [
    {
     "data": {
      "image/png": "[encoded data removed]",
      "text/plain": [
       "<Figure size 432x288 with 1 Axes>"
      ]
     },
     "metadata": {
      "needs_background": "light"
     },
     "output_type": "display_data"
    }
   ],
   "source": [
    "#Outputting graph of male and female population by age. \n",
    "\n",
    "#Count & Groupby ignores null values in YearsCoding\n",
    "#YearsCoding is directly correlated with age, so imputing values will not preserve this relationship\n",
    "female_exp = df_female.groupby('YearsCoding').YearsCoding.count()/len(df_female)\n",
    "male_exp = df_male.groupby('YearsCoding').YearsCoding.count()/len(df_male)\n",
    "\n",
    "\n",
    "#Ordering points for graph so it's in Experience ascending order\n",
    "female_exp_sort = sorted(list(zip(female_exp.index, female_exp)),key = lambda x: int(x[0].split()[0].split('-')[0]))\n",
    "male_exp_sort = sorted(list(zip(male_exp.index, male_exp)),key = lambda x: int(x[0].split()[0].split('-')[0]))\n",
    "\n",
    "\n",
    "#Separating x and y values for the graph\n",
    "x_female_exp = [x[0] for x in female_exp_sort]\n",
    "y_female_exp = [y[1] for y in female_exp_sort]\n",
    "x_male_exp = [x[0] for x in male_exp_sort]\n",
    "y_male_exp = [y[1] for y in male_exp_sort]\n",
    "\n",
    "\n",
    "#Formatting and generating a graph\n",
    "plt.title('Population distribution by experience')\n",
    "plt.ylabel('Proportion')\n",
    "plt.xlabel('Years Coding')\n",
    "plt.xticks(rotation=90)\n",
    "\n",
    "plt.plot(x_female_exp, y_female_exp, label = 'Female')\n",
    "plt.plot(x_male_exp, y_male_exp, label = 'male')\n",
    "\n",
    "plt.legend(loc='upper right', prop={'size':10})\n",
    "plt.savefig(os.path.join(os.getcwd(),'Gender_exp_pop_dist.png'),bbox_inches='tight')\n"
   ]
  },
  {
   "cell_type": "markdown",
   "metadata": {},
   "source": [
    "As can be seen, the Female population is skewed to the left, meaning that there is a significantly greater proportion of more junior coders, potentially explaining why there is a disparity in pay.\n",
    "<br>\n",
    "<br> TO be sure that this is the case, I wanted to look at the difference in mean pay for these as well, to understand better the overall correlation between Coding experience and salary"
   ]
  },
  {
   "cell_type": "code",
   "execution_count": 8,
   "metadata": {},
   "outputs": [
    {
     "data": {
      "image/png": "[encoded data removed]",
      "text/plain": [
       "<Figure size 432x288 with 1 Axes>"
      ]
     },
     "metadata": {
      "needs_background": "light"
     },
     "output_type": "display_data"
    }
   ],
   "source": [
    "#Calculating & Outputting graph of population distribution by years of experience. \n",
    "\n",
    "#Mean function ignores nulll values for ConvertedSalary, Groupby ignores null values in YearsCoding\n",
    "#Doesn't make sense to impute the values here, as Age and Years Coding are implicitly linked and\n",
    "#imputing mean values for Salary wouldn't change our findings (as we are taking the mean)\n",
    "female_sal_exp_mean = df_female.groupby('YearsCoding').ConvertedSalary.mean()\n",
    "male_sal_exp_mean = df_male.groupby('YearsCoding').ConvertedSalary.mean() \n",
    "\n",
    "\n",
    "#Ordering points for graph so it's in Experience ascending order\n",
    "female_sal_exp_mean_sort = sorted(list(zip(female_sal_exp_mean.index, female_sal_exp_mean)),key = lambda x: int(x[0].split()[0].split('-')[0]))\n",
    "male_sal_exp_mean_sort = sorted(list(zip(male_sal_exp_mean.index, male_sal_exp_mean)),key = lambda x: int(x[0].split()[0].split('-')[0]))\n",
    "\n",
    "\n",
    "#Separating x and y values for the graph\n",
    "x_female_mean_sal_exp = [x[0] for x in female_sal_exp_mean_sort]\n",
    "y_female_mean_sal_exp = [y[1] for y in female_sal_exp_mean_sort]\n",
    "x_male_mean_sal_exp = [x[0] for x in male_sal_exp_mean_sort]\n",
    "y_male_mean_sal_exp = [y[1] for y in male_sal_exp_mean_sort]\n",
    "\n",
    "\n",
    "#Formatting and generating a graph\n",
    "plt.title('Mean Pay by Experience')\n",
    "plt.ylabel('Salary (USD)')\n",
    "plt.xticks(rotation=90)\n",
    "\n",
    "plt.plot(x_female_mean_sal_exp, y_female_mean_sal_exp, label = 'Female')\n",
    "plt.plot(x_male_mean_sal_exp, y_male_mean_sal_exp, label = 'male')\n",
    "\n",
    "plt.legend(loc='upper left', prop={'size':10})\n",
    "plt.savefig(os.path.join(os.getcwd(),'MedianPay_by_Exp.png'),bbox_inches='tight')"
   ]
  },
  {
   "cell_type": "markdown",
   "metadata": {},
   "source": [
    "In general,the correlation of experience and salary holds true, giving a good explanation for why women's salries may be lower, as there's more junior people.\n",
    "<br>\n",
    "<br> However, there is an exception for the age bracket 24-29 years. THis could be put down to sample size, but it could symptomatic of issues women face around these years. Moreover, someone with 24-29 years of coding experiences are likely to be around 50 years old. This lead me to investigate into a different area of which women of this age may have been challenged with...."
   ]
  },
  {
   "cell_type": "markdown",
   "metadata": {},
   "source": [
    "<h2 id='part1'>Question 2: How does having children impact progression?</h2>\n",
    "<br>\n",
    "Typically, women have longer a longer absence from work due to maternity leave and undertake more of the care-giving role than men. I wanted to see if having children, had a significant impact on their progression. One way of measuring progression is salary, which is what I have focussed on below.\n",
    "    "
   ]
  },
  {
   "cell_type": "code",
   "execution_count": 9,
   "metadata": {},
   "outputs": [
    {
     "data": {
      "image/png": "[encoded data removed]",
      "text/plain": [
       "<Figure size 432x288 with 1 Axes>"
      ]
     },
     "metadata": {
      "needs_background": "light"
     },
     "output_type": "display_data"
    }
   ],
   "source": [
    "#Outputting graph to show female salary differences witgh and without children, by age\n",
    "\n",
    "#We are only interested in looking at population who answered the dependency question and the salary question.\n",
    "#Therefore, dropping values where people haven't answered these questions as it won't inform outcome\n",
    "df_dep_no_null_f = df_female.dropna(subset=['Dependents','ConvertedSalary'],how='any')\n",
    "df_dep_no_null_m = df_male.dropna(subset=['Dependents','ConvertedSalary'],how='any')\n",
    "\n",
    "\n",
    "#Filtering for ages most likley children are to have an impact on salary.\n",
    "#Women tend to retire earlier than men and under 25s are unlikely to have children, potentially not have a salary either.\n",
    "#Therefore, they have been removed\n",
    "ages_for_children = ['25 - 34 years old','35 - 44 years old','45 - 54 years old']\n",
    "\n",
    "df_dependents_f=df_dep_no_null_f[df_dep_no_null_f.Age.apply(lambda x: True if x in ages_for_children else False)]\n",
    "df_dependents_m=df_dep_no_null_m[df_dep_no_null_m.Age.apply(lambda x: True if x in ages_for_children else False)]\n",
    "\n",
    "\n",
    "#Finding average Salaries by age and by dependents status\n",
    "#Groupby removes nulls for Age, since we want to find out affects over age bands, these values have been dropped.\n",
    "female_sal_series = df_dependents_f.groupby(['Dependents','Age']).ConvertedSalary.mean().sort_index()\n",
    "male_sal_series = df_dependents_m.groupby(['Dependents','Age']).ConvertedSalary.mean().sort_index()\n",
    "\n",
    "\n",
    "#Formatting and generating a graph\n",
    "plt.plot(list(female_sal_series['Yes'].index), list(female_sal_series['Yes']), label='Female&Children')\n",
    "plt.plot(list(female_sal_series['No'].index), list(female_sal_series['No']), label='Female&NoChildren')\n",
    "\n",
    "plt.title(\"Mean Female Salary by Age\")\n",
    "plt.ylabel('Salary (USD)')\n",
    "plt.xticks(rotation=90)\n",
    "plt.legend()\n",
    "\n",
    "plt.savefig(os.path.join(os.getcwd(),'FemalePay_by_age&dependents.png'),bbox_inches='tight')\n"
   ]
  },
  {
   "cell_type": "markdown",
   "metadata": {},
   "source": [
    "As you can see, the graph above indicates having children has a significant impact on women's salaries, especially later in life.\n",
    "<br>\n",
    "<br> I wanted to evaluate how much of an impact it actually has, and how this is different from men."
   ]
  },
  {
   "cell_type": "code",
   "execution_count": 10,
   "metadata": {},
   "outputs": [
    {
     "data": {
      "text/html": [
       "<div>\n",
       "<style scoped>\n",
       "    .dataframe tbody tr th:only-of-type {\n",
       "        vertical-align: middle;\n",
       "    }\n",
       "\n",
       "    .dataframe tbody tr th {\n",
       "        vertical-align: top;\n",
       "    }\n",
       "\n",
       "    .dataframe thead th {\n",
       "        text-align: right;\n",
       "    }\n",
       "</style>\n",
       "<table border=\"1\" class=\"dataframe\">\n",
       "  <thead>\n",
       "    <tr style=\"text-align: right;\">\n",
       "      <th></th>\n",
       "      <th>Female</th>\n",
       "      <th>Male</th>\n",
       "    </tr>\n",
       "  </thead>\n",
       "  <tbody>\n",
       "    <tr>\n",
       "      <th>25 - 34 years old</th>\n",
       "      <td>-11.47%</td>\n",
       "      <td>-1.83%</td>\n",
       "    </tr>\n",
       "    <tr>\n",
       "      <th>35 - 44 years old</th>\n",
       "      <td>-3.05%</td>\n",
       "      <td>3.65%</td>\n",
       "    </tr>\n",
       "    <tr>\n",
       "      <th>45 - 54 years old</th>\n",
       "      <td>-15.13%</td>\n",
       "      <td>-3.78%</td>\n",
       "    </tr>\n",
       "  </tbody>\n",
       "</table>\n",
       "</div>"
      ],
      "text/plain": [
       "                    Female    Male\n",
       "25 - 34 years old  -11.47%  -1.83%\n",
       "35 - 44 years old   -3.05%   3.65%\n",
       "45 - 54 years old  -15.13%  -3.78%"
      ]
     },
     "execution_count": 10,
     "metadata": {},
     "output_type": "execute_result"
    }
   ],
   "source": [
    "#Outputting/ Calculating the relative differences in salaries with and without children\n",
    "female_dep_cost = female_sal_series['Yes']/female_sal_series['No']\n",
    "male_dep_cost = male_sal_series['Yes']/male_sal_series['No']\n",
    "\n",
    "\n",
    "#Combining the results into one dataframe for output\n",
    "df_dep_cost = pd.concat([pd.DataFrame(list(female_dep_cost), index = list(female_dep_cost.index), columns = ['Female']),\n",
    "                        pd.DataFrame(list(male_dep_cost), index = list(male_dep_cost.index),columns=['Male'])],axis=1)\n",
    "\n",
    "\n",
    "#Reformatting the data to be percentage change and in percentage format\n",
    "df_dep_cost['Female'] = df_dep_cost['Female'].apply(lambda x: \"{:.2%}\".format(x-1))\n",
    "df_dep_cost['Male'] = df_dep_cost['Male'].apply(lambda x: \"{:.2%}\".format(x-1))\n",
    "\n",
    "df_dep_cost"
   ]
  },
  {
   "cell_type": "markdown",
   "metadata": {},
   "source": [
    "Clearly, from the above, men's income is much more stable when it comes to having children. Moreover, the magnitude of the difference is significant. Women can expect to have a large earnings hit if they have children.\n",
    "\n",
    "It is worth noting, that the stabilitiy __may__ be due to an increase in population size, but it's difficult to determine this effect."
   ]
  },
  {
   "cell_type": "markdown",
   "metadata": {},
   "source": [
    "<h2 id='part1'>Question 3: Women in STEM… Is there really an obstacle??</h2>\n",
    "<br>\n",
    "Furthering from the differences in having children, I wanted to see if there were any other drivers of why older women may have a lower salary.\n",
    "<br>\n",
    "<br> I started to think about generational difference and how women were less likely to have higher education, but also less likely to pursue STEM subjects. In recent years, there are lots of initiative to increase women's participation in STEM subjects and I wanted to see what the impact of this was. I started with the interest in Computer Science / Technical degree as the dataset is relating to Developers:\n",
    "    "
   ]
  },
  {
   "cell_type": "code",
   "execution_count": 11,
   "metadata": {},
   "outputs": [
    {
     "name": "stdout",
     "output_type": "stream",
     "text": [
      "Women with a Computer Science related degree: 54.19%\n",
      "Men with a Computer Science related degree: 63.84%\n"
     ]
    },
    {
     "name": "stderr",
     "output_type": "stream",
     "text": [
      "C:\\Users\\dltheobald\\AppData\\Local\\Continuum\\anaconda3\\lib\\site-packages\\ipykernel_launcher.py:17: SettingWithCopyWarning: \n",
      "A value is trying to be set on a copy of a slice from a DataFrame.\n",
      "Try using .loc[row_indexer,col_indexer] = value instead\n",
      "\n",
      "See the caveats in the documentation: http://pandas.pydata.org/pandas-docs/stable/indexing.html#indexing-view-versus-copy\n",
      "C:\\Users\\dltheobald\\AppData\\Local\\Continuum\\anaconda3\\lib\\site-packages\\ipykernel_launcher.py:19: SettingWithCopyWarning: \n",
      "A value is trying to be set on a copy of a slice from a DataFrame.\n",
      "Try using .loc[row_indexer,col_indexer] = value instead\n",
      "\n",
      "See the caveats in the documentation: http://pandas.pydata.org/pandas-docs/stable/indexing.html#indexing-view-versus-copy\n"
     ]
    }
   ],
   "source": [
    "#Calculating total proportion of Computer Science related degrees for each gender\n",
    "\n",
    "#Adding flags for technical degrees. Looking at the data, people with a technical background with the below Majors\n",
    "#would be better equipped for a future in computer science/ a developer role\n",
    "technical_degree = ['Computer science, computer engineering, or software engineering',\n",
    "                   'Information systems, information technology, or system administration'\n",
    "                   'Web development or web design']\n",
    "\n",
    "\n",
    "#Dropping entries with NaNs for undergrad major, otherwise we would be assuming they were 'Non-Technical'\n",
    "#for all nulls in the population which would skew the results. Moreover, removing nulls also removes those who didn't\n",
    "#go to university. Since we are considering those with technical degrees, we want to remove these people from our population\n",
    "df_female_grad = df_female.dropna(subset=['UndergradMajor'],axis=0)\n",
    "df_male_grad = df_male.dropna(subset=['UndergradMajor'],axis=0)\n",
    "\n",
    "df_female_grad['TechnicalDegree'] = df_female_grad.UndergradMajor\\\n",
    "                                    .apply(lambda x : 'Technical' if x in technical_degree else 'Non-Technical')\n",
    "df_male_grad['TechnicalDegree'] = df_male_grad.UndergradMajor\\\n",
    "                                    .apply(lambda x : 'Technical' if x in technical_degree else 'Non-Technical')\n",
    "\n",
    "\n",
    "#Finding the number of technical vs non-technical people in population by Gender\n",
    "female_tech_bd = df_female_grad.groupby('TechnicalDegree').TechnicalDegree.count()/len(df_female_grad)\n",
    "male_tech_bd = df_male_grad.groupby('TechnicalDegree').TechnicalDegree.count()/len(df_male_grad)\n",
    "\n",
    "\n",
    "#Formatting and printing the output\n",
    "print('Women with a Computer Science related degree: ' + \"{:.2%}\".format(female_tech_bd['Technical']))\n",
    "print('Men with a Computer Science related degree: ' + \"{:.2%}\".format(male_tech_bd['Technical']))\n"
   ]
  },
  {
   "cell_type": "markdown",
   "metadata": {},
   "source": [
    "From a first glance at the data, it is clear that there are more men with technical degrees which indicates a bias in their education to technical fields.\n",
    "<br>\n",
    "<br> Exploring this further..."
   ]
  },
  {
   "cell_type": "code",
   "execution_count": 12,
   "metadata": {},
   "outputs": [
    {
     "name": "stdout",
     "output_type": "stream",
     "text": [
      "Women, 35 and over: 7.03%\n",
      "Men, 35 and over: 12.57%\n",
      "Women, 18 to 34: 38.72%\n",
      "Men, 18 to 34: 41.05%\n"
     ]
    },
    {
     "data": {
      "image/png": "[encoded data removed]",
      "text/plain": [
       "<Figure size 432x288 with 1 Axes>"
      ]
     },
     "metadata": {
      "needs_background": "light"
     },
     "output_type": "display_data"
    }
   ],
   "source": [
    "#Outputting graph showing the age distribution of graduates.\n",
    "\n",
    "#Filtering list to only Technical people to show age distribution of this\n",
    "df_female_tech = df_female_grad[df_female_grad['TechnicalDegree']=='Technical']\n",
    "df_male_tech = df_male_grad[df_male_grad['TechnicalDegree']=='Technical']\n",
    "\n",
    "\n",
    "#Filtering age to that of graduate ages, as we are considering Undergraduate Majors\n",
    "over_35 = ['35 - 44 years old','45 - 54 years old','55 - 64 years old','65 years or older']\n",
    "under_25 = ['25 - 34 years old','18 - 24 years old']\n",
    "graduate_ages = under_25 + over_35\n",
    "\n",
    "\n",
    "#Groupby removes nulls for Age, since we want to find distribution of age bands, these values have been dropped.\n",
    "#Imputing these values may skew the distribution\n",
    "female_tech_bd_age = df_female_tech.groupby('Age')['Age'].count()[graduate_ages].sort_index()/len(df_female) #_tech\n",
    "male_tech_bd_age = df_male_tech.groupby('Age')['Age'].count()[graduate_ages].sort_index()/len(df_male)\n",
    "\n",
    "\n",
    "##Printing statistics for reference in blog, age and gender differences in population\n",
    "print('Women, 35 and over: ' + \"{:.2%}\".format(female_tech_bd_age[over_35].sum()))\n",
    "print('Men, 35 and over: ' + \"{:.2%}\".format(male_tech_bd_age[over_35].sum()))\n",
    "print('Women, 18 to 34: ' + \"{:.2%}\".format(female_tech_bd_age[under_25].sum()))\n",
    "print('Men, 18 to 34: ' + \"{:.2%}\".format(male_tech_bd_age[under_25].sum()))\n",
    "\n",
    "\n",
    "#Formatting and generating a graph\n",
    "plt.plot(list(female_tech_bd_age.index), list(female_tech_bd_age), label='Female')\n",
    "plt.plot(list(male_tech_bd_age.index), list(male_tech_bd_age), label='Male')\n",
    "\n",
    "plt.title(\"Tech Graduates by Age\")\n",
    "plt.ylabel('Proportion')\n",
    "plt.xticks(rotation=90)\n",
    "plt.legend()\n",
    "\n",
    "plt.savefig(os.path.join(os.getcwd(),'Tech_grads_by_age.png'),bbox_inches='tight')\n"
   ]
  },
  {
   "cell_type": "markdown",
   "metadata": {},
   "source": [
    "It is clear that men favoured technical subjects from age 25 and above, putting women at a disadvantage for developer roles. However, it can also be seen that for the youngest age bracket, there has been a switch in the proportion of men and women exploring these options, with women now pursuing technical subjects more than men.\n",
    "<br>\n",
    "<br> I wanted to have a deeper look into Undergrad Majors because many people in the survey did not have these degrees (i.e 35% men, 45% of women). STEM subjects are closely linked to developer roles and I wanted to have a wider understanding of educational bias."
   ]
  },
  {
   "cell_type": "code",
   "execution_count": 13,
   "metadata": {},
   "outputs": [
    {
     "name": "stdout",
     "output_type": "stream",
     "text": [
      "Women in STEM: 82.32%\n",
      "Men in STEM: 91.66%\n"
     ]
    },
    {
     "name": "stderr",
     "output_type": "stream",
     "text": [
      "C:\\Users\\dltheobald\\AppData\\Local\\Continuum\\anaconda3\\lib\\site-packages\\ipykernel_launcher.py:12: SettingWithCopyWarning: \n",
      "A value is trying to be set on a copy of a slice from a DataFrame.\n",
      "Try using .loc[row_indexer,col_indexer] = value instead\n",
      "\n",
      "See the caveats in the documentation: http://pandas.pydata.org/pandas-docs/stable/indexing.html#indexing-view-versus-copy\n",
      "  if sys.path[0] == '':\n",
      "C:\\Users\\dltheobald\\AppData\\Local\\Continuum\\anaconda3\\lib\\site-packages\\ipykernel_launcher.py:14: SettingWithCopyWarning: \n",
      "A value is trying to be set on a copy of a slice from a DataFrame.\n",
      "Try using .loc[row_indexer,col_indexer] = value instead\n",
      "\n",
      "See the caveats in the documentation: http://pandas.pydata.org/pandas-docs/stable/indexing.html#indexing-view-versus-copy\n",
      "  \n"
     ]
    }
   ],
   "source": [
    "#Calculating total proportion of STEM related degrees for each gender\n",
    "\n",
    "#Adding a flag for STEM subjects and repeating the analysis above\n",
    "#Note: still only taking the graduate population, as above.\n",
    "non_STEM = ['Fine arts or performing arts (ex. graphic design, music, studio art)',\n",
    "            'A social science (ex. anthropology, psychology, political science)',\n",
    "            'A humanities discipline (ex. literature, history, philosophy)',\n",
    "            'A business discipline (ex. accounting, finance, marketing)',\n",
    "            'I never declared a major']\n",
    "\n",
    "df_female_grad['STEM'] = df_female_grad.UndergradMajor\\\n",
    "                                    .apply(lambda x : 'Non-STEM' if x in non_STEM else 'STEM')\n",
    "df_male_grad['STEM'] = df_male_grad.UndergradMajor\\\n",
    "                                    .apply(lambda x : 'Non-STEM' if x in non_STEM else 'STEM')\n",
    "\n",
    "\n",
    "##Printing statistics for reference in blog, gender &STEM differences in population\n",
    "print(\"Women in STEM: {:.2%}\".format(df_female_grad.groupby('STEM').STEM.count()['STEM']/len(df_female_grad)))\n",
    "print(\"Men in STEM: {:.2%}\".format(df_male_grad.groupby('STEM').STEM.count()['STEM']/len(df_male_grad)))"
   ]
  },
  {
   "cell_type": "markdown",
   "metadata": {},
   "source": [
    "From a first glance at the data, it is clear that there are more men with STEM degrees which indicates a bias in their education to technical fields.\n",
    "<br>\n",
    "<br> Exploring this further..."
   ]
  },
  {
   "cell_type": "code",
   "execution_count": 14,
   "metadata": {},
   "outputs": [
    {
     "data": {
      "text/html": [
       "<div>\n",
       "<style scoped>\n",
       "    .dataframe tbody tr th:only-of-type {\n",
       "        vertical-align: middle;\n",
       "    }\n",
       "\n",
       "    .dataframe tbody tr th {\n",
       "        vertical-align: top;\n",
       "    }\n",
       "\n",
       "    .dataframe thead th {\n",
       "        text-align: right;\n",
       "    }\n",
       "</style>\n",
       "<table border=\"1\" class=\"dataframe\">\n",
       "  <thead>\n",
       "    <tr style=\"text-align: right;\">\n",
       "      <th></th>\n",
       "      <th>Female</th>\n",
       "      <th>Male</th>\n",
       "    </tr>\n",
       "  </thead>\n",
       "  <tbody>\n",
       "    <tr>\n",
       "      <th>18 - 24 years old</th>\n",
       "      <td>26.73%</td>\n",
       "      <td>20.62%</td>\n",
       "    </tr>\n",
       "    <tr>\n",
       "      <th>25 - 34 years old</th>\n",
       "      <td>53.18%</td>\n",
       "      <td>52.50%</td>\n",
       "    </tr>\n",
       "    <tr>\n",
       "      <th>35 - 44 years old</th>\n",
       "      <td>12.73%</td>\n",
       "      <td>18.32%</td>\n",
       "    </tr>\n",
       "    <tr>\n",
       "      <th>45 - 54 years old</th>\n",
       "      <td>3.36%</td>\n",
       "      <td>5.12%</td>\n",
       "    </tr>\n",
       "    <tr>\n",
       "      <th>55 - 64 years old</th>\n",
       "      <td>1.11%</td>\n",
       "      <td>1.44%</td>\n",
       "    </tr>\n",
       "  </tbody>\n",
       "</table>\n",
       "</div>"
      ],
      "text/plain": [
       "                   Female    Male\n",
       "18 - 24 years old  26.73%  20.62%\n",
       "25 - 34 years old  53.18%  52.50%\n",
       "35 - 44 years old  12.73%  18.32%\n",
       "45 - 54 years old   3.36%   5.12%\n",
       "55 - 64 years old   1.11%   1.44%"
      ]
     },
     "execution_count": 14,
     "metadata": {},
     "output_type": "execute_result"
    }
   ],
   "source": [
    "#Calculating the population distribution of STEM related degrees for each gender by age\n",
    "\n",
    "#Filtering out stem graduates only as we want to look at the demographics of this.\n",
    "df_female_STEM = df_female_grad[df_female_grad['STEM']=='STEM']\n",
    "df_male_STEM = df_male_grad[df_male_grad['STEM']=='STEM']\n",
    "\n",
    "\n",
    "#Only considering working professionals as they are most likely to have degrees and be in employment\n",
    "#People below these ages are unlikely to have a degree and it would be non-sensical.\n",
    "working_professionals = ['18 - 24 years old','25 - 34 years old','35 - 44 years old',\n",
    "                         '45 - 54 years old','55 - 64 years old']\n",
    "\n",
    "\n",
    "#Groupby and Count removes Nulls from calculation. We don;t want to impute these values as is may skew the population distribution\n",
    "female_STEM_bd_age = df_female_STEM.groupby('Age')['Age'].count()[working_professionals]/len(df_female_STEM)\n",
    "male_STEM_bd_age = df_male_STEM.groupby('Age')['Age'].count()[working_professionals]/len(df_male_STEM)\n",
    "\n",
    "\n",
    "#Combining data together into one DataFrame\n",
    "df_STEM_bd = pd.concat([pd.DataFrame(list(female_STEM_bd_age), index = list(female_STEM_bd_age.index), columns = ['Female']),\n",
    "                        pd.DataFrame(list(male_STEM_bd_age), index = list(male_STEM_bd_age.index),columns=['Male'])],axis=1)\n",
    "\n",
    "\n",
    "#Reformatting data into percentages to 2dp.\n",
    "df_STEM_bd['Female'] = df_STEM_bd['Female'].apply(lambda x: \"{:.2%}\".format(x))\n",
    "df_STEM_bd['Male'] = df_STEM_bd['Male'].apply(lambda x: \"{:.2%}\".format(x))\n",
    "df_STEM_bd"
   ]
  },
  {
   "cell_type": "markdown",
   "metadata": {},
   "source": [
    "Looking at population distribution of STEM graduates, this information does show a preferene for the younger generation to take this subjects. __However__, this data is skewed by the fact the majority of respondents were in the lower age ranges, meaning this doesn't give us as much information as initially though.\n",
    "<br>\n",
    "<br> As a result, looking at the breakdowns of the population for each age group would be more indicative."
   ]
  },
  {
   "cell_type": "code",
   "execution_count": 15,
   "metadata": {
    "scrolled": true
   },
   "outputs": [
    {
     "data": {
      "text/html": [
       "<div>\n",
       "<style scoped>\n",
       "    .dataframe tbody tr th:only-of-type {\n",
       "        vertical-align: middle;\n",
       "    }\n",
       "\n",
       "    .dataframe tbody tr th {\n",
       "        vertical-align: top;\n",
       "    }\n",
       "\n",
       "    .dataframe thead th {\n",
       "        text-align: right;\n",
       "    }\n",
       "</style>\n",
       "<table border=\"1\" class=\"dataframe\">\n",
       "  <thead>\n",
       "    <tr style=\"text-align: right;\">\n",
       "      <th></th>\n",
       "      <th>Female</th>\n",
       "      <th>Male</th>\n",
       "    </tr>\n",
       "  </thead>\n",
       "  <tbody>\n",
       "    <tr>\n",
       "      <th>18 - 24 years old</th>\n",
       "      <td>93.36%</td>\n",
       "      <td>96.33%</td>\n",
       "    </tr>\n",
       "    <tr>\n",
       "      <th>25 - 34 years old</th>\n",
       "      <td>79.99%</td>\n",
       "      <td>92.02%</td>\n",
       "    </tr>\n",
       "    <tr>\n",
       "      <th>35 - 44 years old</th>\n",
       "      <td>76.14%</td>\n",
       "      <td>87.93%</td>\n",
       "    </tr>\n",
       "    <tr>\n",
       "      <th>45 - 54 years old</th>\n",
       "      <td>70.20%</td>\n",
       "      <td>86.21%</td>\n",
       "    </tr>\n",
       "    <tr>\n",
       "      <th>55 - 64 years old</th>\n",
       "      <td>74.47%</td>\n",
       "      <td>85.35%</td>\n",
       "    </tr>\n",
       "  </tbody>\n",
       "</table>\n",
       "</div>"
      ],
      "text/plain": [
       "                   Female    Male\n",
       "18 - 24 years old  93.36%  96.33%\n",
       "25 - 34 years old  79.99%  92.02%\n",
       "35 - 44 years old  76.14%  87.93%\n",
       "45 - 54 years old  70.20%  86.21%\n",
       "55 - 64 years old  74.47%  85.35%"
      ]
     },
     "execution_count": 15,
     "metadata": {},
     "output_type": "execute_result"
    }
   ],
   "source": [
    "#Calculating the STEM percentage for EACH age group, by gender\n",
    "\n",
    "#Groupby removes nulls for Age, since we want to find STEM distributions forr age bands, we don't want to impute these value.\n",
    "#Otherwise, it may skew the distribution\n",
    "STEM_count_f = df_female_grad.groupby(['STEM','Age']).STEM.count()['STEM'][working_professionals]\n",
    "STEM_count_f_total = df_female_grad.groupby('Age').STEM.count()[working_professionals]\n",
    "\n",
    "STEM_count_m = df_male_grad.groupby(['STEM','Age']).STEM.count()['STEM'][working_professionals]\n",
    "STEM_count_m_total = df_male_grad.groupby('Age').STEM.count()[working_professionals]\n",
    "\n",
    "\n",
    "##Calculating the STEM population percentage by age\n",
    "STEM_bd_female = STEM_count_f/STEM_count_f_total\n",
    "STEM_bd_male = STEM_count_m/STEM_count_m_total\n",
    "\n",
    "\n",
    "#Combining data together into one DataFrame\n",
    "df_STEM_bd_2 = pd.concat([pd.DataFrame(list(STEM_bd_female), index = list(STEM_bd_female.index), columns = ['Female']),\n",
    "                        pd.DataFrame(list(STEM_bd_male), index = list(STEM_bd_male.index),columns=['Male'])],axis=1)\n",
    "\n",
    "\n",
    "#Reformatting data into percentages to 2dp.\n",
    "df_STEM_bd_2['Female'] = df_STEM_bd_2['Female'].apply(lambda x: \"{:.2%}\".format(x))\n",
    "df_STEM_bd_2['Male'] = df_STEM_bd_2['Male'].apply(lambda x: \"{:.2%}\".format(x))\n",
    "df_STEM_bd_2"
   ]
  },
  {
   "cell_type": "markdown",
   "metadata": {},
   "source": [
    "This output gives us a lot more information about the relationship between STEM and age because it isn;t skewed by the population. <br>\n",
    "<br> It is now clear that men are a lot more likely to pursure STEM subjects than women, meaning they have an advantage in Developer type roles which often require skills from these subjects.\n",
    " <br>\n",
    " <br>\n",
    " However, it is cleae that there's generational bias for education which has slowly becoming more rectified. More and more women are pursuing these fields and overcoming the obstacles which they once may have faced.\n",
    " <br>\n",
    " <br> I wanted to have a final look on how these differences really impacted women's progressions/salaries"
   ]
  },
  {
   "cell_type": "code",
   "execution_count": 16,
   "metadata": {},
   "outputs": [
    {
     "data": {
      "image/png": "[encoded data removed]",
      "text/plain": [
       "<Figure size 432x288 with 1 Axes>"
      ]
     },
     "metadata": {
      "needs_background": "light"
     },
     "output_type": "display_data"
    }
   ],
   "source": [
    "#Outputting a graph of women's salaries by age with and without a degree in a STEM area.\n",
    "\n",
    "#Groupby removes nulls for Age, since we want to find STEM salaries by age bands, we don't want to impute these value.\n",
    "#Otherwise, it may skew the distribution. Moreover, imputing salaries with the mean wouldn't have an impact as we're tryign to find the mean\n",
    "df_STEM_age_f = df_female_grad.groupby(['STEM','Age']).ConvertedSalary.mean()['STEM'][working_professionals]\n",
    "df_NSTEM_age_f = df_female_grad.groupby(['STEM','Age']).ConvertedSalary.mean()['Non-STEM'][working_professionals]\n",
    "\n",
    "\n",
    "#Formatting and generating a graph\n",
    "plt.plot(list(df_STEM_age_f.index),list(df_STEM_age_f), label='Female & STEM')\n",
    "plt.plot(list(df_NSTEM_age_f.index),list(df_NSTEM_age_f), label='Female & Non-STEM')\n",
    "\n",
    "plt.title(\"Women in STEM\\nSalary Comparison by Age\")\n",
    "plt.ylabel('Salary (USD)')\n",
    "plt.xticks(rotation=90)\n",
    "plt.legend()\n",
    "\n",
    "plt.savefig(os.path.join(os.getcwd(),'Female_STEM_Salary_by_age.png'),bbox_inches='tight')\n"
   ]
  },
  {
   "cell_type": "markdown",
   "metadata": {},
   "source": [
    "As we can clearly see above, historically, STEM salaries have yielded higher paying professions, meaning that women's salary progression has been a harder battle due to the bias in their education.\n",
    "However, there is optimism for the future as the trends in educational bias indicate that the gap between men and women are reducing and we are moving to a more equal society."
   ]
  },
  {
   "cell_type": "markdown",
   "metadata": {},
   "source": [
    "<h2 id='part1'>Additional material: Showcase Data prep, imputing values and ML techniques</h2>\n",
    " <br> I tried to incorporate machine learning / sklearn algorithms into my blog, however, the models produced did not give me sensible results. As a result, I've produced a framework for what I would have done if a model would have given me a sensible output."
   ]
  },
  {
   "cell_type": "code",
   "execution_count": 17,
   "metadata": {},
   "outputs": [],
   "source": [
    "#Showcase of data prep and evaluation for a machine learning (ML) model\n",
    "#Splitting models into male and female since the data is skewed and is overfitting on male attributes.\n",
    "\n",
    "#Converting variables which contain categorical data, into categorical variables (JobSatisfaction has been done above)\n",
    "#Only doing for one dataframe as using this as a means to convert to floats for ML algorithm\n",
    "df_male['CareerSatisfaction']=df_male['CareerSatisfaction']\\\n",
    "                                    .astype(pd.api.types.CategoricalDtype(\n",
    "                                            categories=['Extremely dissatisfied','Moderately dissatisfied',\n",
    "                                                        'Slightly dissatisfied','Neither satisfied nor dissatisfied',\n",
    "                                                        'Slightly satisfied','Moderately satisfied','Extremely satisfied'],\n",
    "                                            ordered=True))\n",
    "\n",
    "df_male['CompanySize']=df_male['CompanySize']\\\n",
    "                                    .astype(pd.api.types.CategoricalDtype(\n",
    "                                            categories=['Fewer than 10 employees','10 to 19 employees',\n",
    "                                                        '20 to 99 employees','100 to 499 employees',\n",
    "                                                        '500 to 999 employees','1,000 to 4,999 employees',\n",
    "                                                        '5,000 to 9,999 employees','10,000 or more employees'],\n",
    "                                            ordered=True))\n",
    "\n",
    "df_male['Age']=df_male['Age']\\\n",
    "                                    .astype(pd.api.types.CategoricalDtype(\n",
    "                                            categories=['Under 18 years old','18 - 24 years old', '25 - 34 years old',\n",
    "                                                        '45 - 54 years old','35 - 44 years old', '55 - 64 years old',\n",
    "                                                        '65 years or older'],\n",
    "                                            ordered=True))\n",
    "\n",
    "\n",
    "#Dropping Gender axis as this is not used, since we are creating a male and female model\n",
    "df_male = df_male.drop(['Gender'], axis=1)\n",
    "df_female = df_female.drop(['Gender'], axis=1)\n",
    "\n",
    "\n",
    "#Adding flags for STEM and technical subjects, creating features from the analytics above (shown correlation between STEM & Salary)\n",
    "#Dropping UndergradMajor as a result as engineered this feature from this.\n",
    "#Making sure to distinguish the nulls so they aren't all classified as the wrong thing.\n",
    "df_male['STEM'] = df_male['UndergradMajor'].apply(lambda x : [0] if x in non_STEM else [1,1 if pd.isna(x) else 0])\n",
    "df_female['STEM'] = df_female['UndergradMajor'].apply(lambda x : [0] if x in non_STEM else [1,1 if pd.isna(x) else 0])\n",
    "df_male['STEM'] = df_male['STEM'].apply(lambda x : np.nan if sum(x) == 2 else sum(x))\n",
    "df_female['STEM'] = df_female['STEM'].apply(lambda x : np.nan if sum(x) == 2 else sum(x))\n",
    "\n",
    "df_male['Technical'] = df_male['UndergradMajor'].apply(lambda x : [1] if x in technical_degree else [0, 2 if pd.isna(x) else 0])\n",
    "df_female['Technical'] = df_female['UndergradMajor'].apply(lambda x : [1] if x in technical_degree else [0, 2 if pd.isna(x) else 0])\n",
    "df_male['Technical'] = df_male['Technical'].apply(lambda x : np.nan if sum(x) == 2 else sum(x))\n",
    "df_female['Technical'] = df_female['Technical'].apply(lambda x : np.nan if sum(x) == 2 else sum(x))\n",
    "\n",
    "df_male = df_male.drop(['UndergradMajor'],axis=1)\n",
    "df_female = df_female.drop(['UndergradMajor'],axis=1)\n",
    "\n",
    "\n",
    "#Mapping 'Dependents' column to a flag, indicating whether or not the indiviual has children/dependents\n",
    "dependent_mapping = {'Yes' : 1, 'No' : 0}\n",
    "\n",
    "df_male['Dependents'] = df_male['Dependents'].apply(lambda x : dependent_mapping[x] if pd.isna(x) == False else x)\n",
    "df_female['Dependents'] = df_female['Dependents'].apply(lambda x : dependent_mapping[x] if pd.isna(x) == False else x)\n",
    "\n",
    "\n",
    "#Creating ordered lists of categorical variables so that they can be indexed, converting their original column into \n",
    "#I.e creating a numbered scale for example JobSatisfaction (1 being extremely dissatisfied to 7, extremely satisfied)\n",
    "ordered_satisfaction = list(df_male.groupby('CareerSatisfaction').CareerSatisfaction.count().sort_index().index)\n",
    "ordered_size = list(df_male.groupby('CompanySize').CompanySize.count().sort_index().index)\n",
    "ordered_age = list(df_male.groupby('Age').CompanySize.count().sort_index().index)\n",
    "\n",
    "df_male['CompanySize'] = df_male['CompanySize']\\\n",
    "                                .apply(lambda x : ordered_size.index(x) if pd.isna(x) == False else np.nan)\n",
    "df_male['CareerSatisfaction'] = df_male['CareerSatisfaction']\\\n",
    "                                .apply(lambda x : ordered_satisfaction.index(x) if pd.isna(x) == False else np.nan)\n",
    "df_male['JobSatisfaction'] = df_male['JobSatisfaction']\\\n",
    "                                .apply(lambda x : ordered_satisfaction.index(x) if pd.isna(x) == False else np.nan)\n",
    "df_male['Age'] = df_male['Age']\\\n",
    "                                .apply(lambda x : ordered_age.index(x) if pd.isna(x) == False else np.nan)\n",
    "\n",
    "df_female['CompanySize'] = df_female['CompanySize']\\\n",
    "                                .apply(lambda x : ordered_size.index(x) if pd.isna(x) == False else np.nan)\n",
    "df_female['CareerSatisfaction'] = df_female['CareerSatisfaction']\\\n",
    "                                .apply(lambda x : ordered_satisfaction.index(x) if pd.isna(x) == False else np.nan)\n",
    "df_female['JobSatisfaction'] = df_female['JobSatisfaction']\\\n",
    "                                .apply(lambda x : ordered_satisfaction.index(x) if pd.isna(x) == False else np.nan)\n",
    "df_female['Age'] = df_female['Age']\\\n",
    "                                .apply(lambda x : ordered_age.index(x) if pd.isna(x) == False else np.nan)\n",
    "\n",
    "\n",
    "#Showcasing another way to convert Age/YearsCoding columns to ML compatible inputs\n",
    "#Taking the middle of the bands (i.e 0-2 years gets mapped to 1 year)\n",
    "df_male['YearsCoding'] = df_male['YearsCoding']\\\n",
    "                                .apply(lambda x : sum([float(y) for y in x.split()[0].split('-')])/len(x.split()[0].split('-')) if pd.isna(x) == False else np.nan)\n",
    "df_female['YearsCoding'] = df_female['YearsCoding']\\\n",
    "                                .apply(lambda x : sum([float(y) for y in x.split()[0].split('-')])/len(x.split()[0].split('-')) if pd.isna(x) == False else np.nan)\n",
    "\n",
    "\n",
    "#Splitting out country columns into 11 columns, 1 for each top 10 most indicated  country and 1 for other.\n",
    "#Placing a flag for each of the column, so if the country is United states, 1 would be in the united states column and 0 elsewhere\n",
    "for frame in [df_male,df_female]:\n",
    "    top_n_countries = list(frame.groupby('Country')['Country'].count().sort_values(ascending=False).nlargest(10).index)\n",
    "    \n",
    "    frame[\"Country_Other\"] = frame['Country'].apply(lambda x : 0 if x in top_n_countries else 1)\n",
    "    \n",
    "    for value in top_n_countries:\n",
    "        frame[\"Country_\" + value] = frame['Country'].apply(lambda x : 1 if x == value else 0)\n",
    "\n",
    "\n",
    "#Dropping the original Country column as the features ahve been extracted in a ML friendly manor        \n",
    "df_male = df_male.drop(['Country'],axis=1)\n",
    "df_female = df_female.drop(['Country'],axis=1)\n"
   ]
  },
  {
   "cell_type": "markdown",
   "metadata": {},
   "source": [
    "The data has now been processed into a ML friendly format, except for the existence of nulls."
   ]
  },
  {
   "cell_type": "code",
   "execution_count": 18,
   "metadata": {},
   "outputs": [
    {
     "name": "stdout",
     "output_type": "stream",
     "text": [
      "Male null %:\n",
      " CareerSatisfaction            0.059563\n",
      "JobSatisfaction               0.135268\n",
      "CompanySize                   0.218834\n",
      "Age                           0.016275\n",
      "ConvertedSalary               0.307201\n",
      "YearsCoding                   0.000619\n",
      "Dependents                    0.043941\n",
      "STEM                          0.144969\n",
      "Technical                     0.144969\n",
      "Country_Other                 0.000000\n",
      "Country_United States         0.000000\n",
      "Country_India                 0.000000\n",
      "Country_United Kingdom        0.000000\n",
      "Country_Germany               0.000000\n",
      "Country_Canada                0.000000\n",
      "Country_Russian Federation    0.000000\n",
      "Country_France                0.000000\n",
      "Country_Brazil                0.000000\n",
      "Country_Australia             0.000000\n",
      "Country_Poland                0.000000\n",
      "dtype: float64\n",
      "Female null %:\n",
      " CareerSatisfaction            0.088682\n",
      "JobSatisfaction               0.178499\n",
      "CompanySize                   0.223407\n",
      "Age                           0.024949\n",
      "ConvertedSalary               0.348152\n",
      "YearsCoding                   0.001134\n",
      "Dependents                    0.051032\n",
      "STEM                          0.130188\n",
      "Technical                     0.130188\n",
      "Country_Other                 0.000000\n",
      "Country_United States         0.000000\n",
      "Country_India                 0.000000\n",
      "Country_United Kingdom        0.000000\n",
      "Country_Canada                0.000000\n",
      "Country_Germany               0.000000\n",
      "Country_Russian Federation    0.000000\n",
      "Country_Australia             0.000000\n",
      "Country_France                0.000000\n",
      "Country_Poland                0.000000\n",
      "Country_Netherlands           0.000000\n",
      "dtype: float64\n"
     ]
    }
   ],
   "source": [
    "#Highlighting the nulls in each field\n",
    "print('Male null %:\\n',df_male.isnull().mean())\n",
    "print('Female null %:\\n',df_female.isnull().mean())"
   ]
  },
  {
   "cell_type": "markdown",
   "metadata": {},
   "source": [
    "The above shows us what null values there are. There is a large proportion of the data which would be unusable if we were to just drop all na values. However, it wouldnt make sense to impute these values either as it would result in information lost.... \n",
    "<br>\n",
    "<br> This could be as high as 34.8% (ConvertedSalary Female), but this would need to be dropped anyways as this is what we are fitting to. However, over 20% of the Company Size data is null and we can salvage some of the information from the rows with a null in Company size."
   ]
  },
  {
   "cell_type": "code",
   "execution_count": 19,
   "metadata": {},
   "outputs": [
    {
     "name": "stdout",
     "output_type": "stream",
     "text": [
      "Male null %:\n",
      " CareerSatisfaction            0.0\n",
      "JobSatisfaction               0.0\n",
      "CompanySize                   0.0\n",
      "Age                           0.0\n",
      "ConvertedSalary               0.0\n",
      "YearsCoding                   0.0\n",
      "Dependents                    0.0\n",
      "STEM                          0.0\n",
      "Technical                     0.0\n",
      "Country_Other                 0.0\n",
      "Country_United States         0.0\n",
      "Country_India                 0.0\n",
      "Country_United Kingdom        0.0\n",
      "Country_Germany               0.0\n",
      "Country_Canada                0.0\n",
      "Country_Russian Federation    0.0\n",
      "Country_France                0.0\n",
      "Country_Brazil                0.0\n",
      "Country_Australia             0.0\n",
      "Country_Poland                0.0\n",
      "dtype: float64\n",
      "Female null %:\n",
      " CareerSatisfaction            0.0\n",
      "JobSatisfaction               0.0\n",
      "CompanySize                   0.0\n",
      "Age                           0.0\n",
      "ConvertedSalary               0.0\n",
      "YearsCoding                   0.0\n",
      "Dependents                    0.0\n",
      "STEM                          0.0\n",
      "Technical                     0.0\n",
      "Country_Other                 0.0\n",
      "Country_United States         0.0\n",
      "Country_India                 0.0\n",
      "Country_United Kingdom        0.0\n",
      "Country_Canada                0.0\n",
      "Country_Germany               0.0\n",
      "Country_Russian Federation    0.0\n",
      "Country_Australia             0.0\n",
      "Country_France                0.0\n",
      "Country_Poland                0.0\n",
      "Country_Netherlands           0.0\n",
      "dtype: float64\n"
     ]
    }
   ],
   "source": [
    "#Dropping nulls from the 6 columns listed below due to their strong correltions with salary.\n",
    "#Converted Salarty is the column we are fitting against so this cannot be null, which is why we're dropping this.\n",
    "df_male = df_male.dropna(subset=['ConvertedSalary'], axis=0)\n",
    "df_female = df_female.dropna(subset=['ConvertedSalary'], axis=0)\n",
    "\n",
    "\n",
    "#Converting categorical datatypes to float so we can allocate null values\n",
    "df_male['CareerSatisfaction'] = df_male['CareerSatisfaction'].astype(str).astype(float)\n",
    "df_male['JobSatisfaction'] = df_male['JobSatisfaction'].astype(str).astype(float)\n",
    "df_male['CompanySize'] = df_male['CompanySize'].astype(str).astype(float)\n",
    "df_male['Age'] = df_male['Age'].astype(str).astype(float)\n",
    "df_female['CareerSatisfaction'] = df_female['CareerSatisfaction'].astype(str).astype(float)\n",
    "df_female['JobSatisfaction'] = df_female['JobSatisfaction'].astype(str).astype(float)\n",
    "df_female['Age'] = df_female['Age'].astype(str).astype(float)\n",
    "\n",
    "\n",
    "#It wouldnt make sense to impute any of the values in these columns as it would confuse the correlations between variables.\n",
    "#Using decision trees (random forest), putting in a negative value should distinguish these null values seperately\n",
    "df_male = df_male.fillna(-1)\n",
    "df_female = df_female.fillna(-1)\n",
    "\n",
    "\n",
    "#Highlighting the nulls in each field\n",
    "print('Male null %:\\n',df_male.isnull().mean())\n",
    "print('Female null %:\\n',df_female.isnull().mean())"
   ]
  },
  {
   "cell_type": "markdown",
   "metadata": {},
   "source": [
    "As you can now see, there are no more null values, therefore we can now fit a model to make predictions.\n",
    "Since we want to predict salary, we will need a regressor as the data is continuos."
   ]
  },
  {
   "cell_type": "code",
   "execution_count": 20,
   "metadata": {
    "scrolled": true
   },
   "outputs": [
    {
     "name": "stdout",
     "output_type": "stream",
     "text": [
      "Male Test score:  -0.1647190095133353\n",
      "Male Train score:  0.6343348094708942\n",
      "Female Test score:  -0.352747888392694\n",
      "Female Train score:  0.7641731028539402\n"
     ]
    }
   ],
   "source": [
    "#Splitting the data into features and the varaible we want to predict\n",
    "X_male = df_male.dropna().drop(['ConvertedSalary'],axis=1)\n",
    "y_male = df_male.dropna()['ConvertedSalary']\n",
    "\n",
    "X_female = df_female.dropna().drop(['ConvertedSalary'],axis=1)\n",
    "y_female = df_female.dropna()['ConvertedSalary']\n",
    "\n",
    "\n",
    "#Splitting data into train and test data\n",
    "X_train_m, X_test_m, y_train_m, y_test_m = train_test_split(X_male,y_male,test_size=0.2,random_state=42)\n",
    "X_train_f, X_test_f, y_train_f, y_test_f = train_test_split(X_female,y_female,test_size=0.2,random_state=42)\n",
    "\n",
    "\n",
    "#Training the random Forest model on the training set\n",
    "clf_m = RandomForestRegressor(n_estimators=100)\n",
    "clf_f = RandomForestRegressor(n_estimators=100)\n",
    "clf_m.fit(X_train_m,y_train_m)\n",
    "clf_f.fit(X_train_f,y_train_f)\n",
    "\n",
    "\n",
    "#Making predictions off the model\n",
    "y_pred_test_m=clf_m.predict(X_test_m)\n",
    "y_pred_train_m=clf_m.predict(X_train_m)\n",
    "y_pred_test_f=clf_f.predict(X_test_f)\n",
    "y_pred_train_f=clf_f.predict(X_train_f)\n",
    "\n",
    "\n",
    "#Evaluating the models performance\n",
    "print(\"Male Test score: \",r2_score(y_test_m, y_pred_test_m))\n",
    "print(\"Male Train score: \",r2_score(y_train_m, y_pred_train_m))\n",
    "print(\"Female Test score: \",r2_score(y_test_f, y_pred_test_f))\n",
    "print(\"Female Train score: \",r2_score(y_train_f, y_pred_train_f))"
   ]
  },
  {
   "cell_type": "markdown",
   "metadata": {},
   "source": [
    "The above example is a prime example of overfitting, taking features within a training dataset and creating correlations which improves their predictions, but, in fact, does not generalise well when dealing with new data. This is why the test score is so low but the training score is higher."
   ]
  },
  {
   "cell_type": "code",
   "execution_count": 21,
   "metadata": {},
   "outputs": [
    {
     "name": "stdout",
     "output_type": "stream",
     "text": [
      "These are the male feature importances, ordered by importance:\n"
     ]
    },
    {
     "data": {
      "text/plain": [
       "[('CompanySize', 0.1783631724501932),\n",
       " ('YearsCoding', 0.15839934490790603),\n",
       " ('JobSatisfaction', 0.15551956110043605),\n",
       " ('CareerSatisfaction', 0.15516283733941919),\n",
       " ('Age', 0.08583472587971956),\n",
       " ('Technical', 0.07202168967810567),\n",
       " ('Dependents', 0.0671682475935641),\n",
       " ('STEM', 0.043656818645698627),\n",
       " ('Country_United States', 0.04006003628349245),\n",
       " ('Country_Other', 0.00792933354986965),\n",
       " ('Country_United Kingdom', 0.007801654700393518),\n",
       " ('Country_Germany', 0.0059230102664078865),\n",
       " ('Country_Canada', 0.005367151314148302),\n",
       " ('Country_France', 0.00405081161812803),\n",
       " ('Country_Brazil', 0.003894001479764195),\n",
       " ('Country_Australia', 0.003317805382864355),\n",
       " ('Country_India', 0.003281244457385307),\n",
       " ('Country_Russian Federation', 0.0012063547566129966),\n",
       " ('Country_Poland', 0.0010421985958910713)]"
      ]
     },
     "execution_count": 21,
     "metadata": {},
     "output_type": "execute_result"
    }
   ],
   "source": [
    "print(\"These are the male feature importances, ordered by importance:\")\n",
    "sorted(list(zip(X_male.columns,clf_m.feature_importances_)),key = lambda x:x[1],reverse=True)"
   ]
  },
  {
   "cell_type": "code",
   "execution_count": 22,
   "metadata": {},
   "outputs": [
    {
     "name": "stdout",
     "output_type": "stream",
     "text": [
      "These are the male feature importances, ordered by importance:\n"
     ]
    },
    {
     "data": {
      "text/plain": [
       "[('YearsCoding', 0.19333074139290518),\n",
       " ('CompanySize', 0.19290305719238776),\n",
       " ('CareerSatisfaction', 0.16234651663749733),\n",
       " ('JobSatisfaction', 0.14951193529888887),\n",
       " ('Age', 0.08238100856729043),\n",
       " ('Technical', 0.06439333877457852),\n",
       " ('Dependents', 0.04532712189116471),\n",
       " ('STEM', 0.036917577019851634),\n",
       " ('Country_United States', 0.031930119672545845),\n",
       " ('Country_Other', 0.010383176966248854),\n",
       " ('Country_Canada', 0.008732562698830467),\n",
       " ('Country_United Kingdom', 0.00806812847779629),\n",
       " ('Country_Germany', 0.004441098344299977),\n",
       " ('Country_Australia', 0.0035376303064238897),\n",
       " ('Country_Netherlands', 0.002523256020543649),\n",
       " ('Country_India', 0.0013527382737290974),\n",
       " ('Country_France', 0.0013081788453115865),\n",
       " ('Country_Russian Federation', 0.0004104198395237776),\n",
       " ('Country_Poland', 0.000201393780182198)]"
      ]
     },
     "execution_count": 22,
     "metadata": {},
     "output_type": "execute_result"
    }
   ],
   "source": [
    "print(\"These are the male feature importances, ordered by importance:\")\n",
    "sorted(list(zip(X_female.columns,clf_f.feature_importances_)),key = lambda x:x[1],reverse=True)"
   ]
  },
  {
   "cell_type": "code",
   "execution_count": null,
   "metadata": {},
   "outputs": [],
   "source": []
  },
  {
   "cell_type": "code",
   "execution_count": null,
   "metadata": {
    "scrolled": true
   },
   "outputs": [],
   "source": []
  },
  {
   "cell_type": "code",
   "execution_count": null,
   "metadata": {},
   "outputs": [],
   "source": []
  },
  {
   "cell_type": "code",
   "execution_count": null,
   "metadata": {},
   "outputs": [],
   "source": []
  },
  {
   "cell_type": "code",
   "execution_count": null,
   "metadata": {},
   "outputs": [],
   "source": []
  },
  {
   "cell_type": "code",
   "execution_count": null,
   "metadata": {},
   "outputs": [],
   "source": []
  },
  {
   "cell_type": "code",
   "execution_count": null,
   "metadata": {},
   "outputs": [],
   "source": []
  },
  {
   "cell_type": "code",
   "execution_count": null,
   "metadata": {},
   "outputs": [],
   "source": []
  },
  {
   "cell_type": "code",
   "execution_count": null,
   "metadata": {},
   "outputs": [],
   "source": []
  },
  {
   "cell_type": "code",
   "execution_count": null,
   "metadata": {},
   "outputs": [],
   "source": []
  },
  {
   "cell_type": "code",
   "execution_count": null,
   "metadata": {},
   "outputs": [],
   "source": []
  },
  {
   "cell_type": "code",
   "execution_count": null,
   "metadata": {},
   "outputs": [],
   "source": []
  },
  {
   "cell_type": "code",
   "execution_count": null,
   "metadata": {},
   "outputs": [],
   "source": []
  },
  {
   "cell_type": "code",
   "execution_count": null,
   "metadata": {},
   "outputs": [],
   "source": []
  },
  {
   "cell_type": "code",
   "execution_count": null,
   "metadata": {},
   "outputs": [],
   "source": []
  },
  {
   "cell_type": "code",
   "execution_count": null,
   "metadata": {},
   "outputs": [],
   "source": []
  },
  {
   "cell_type": "code",
   "execution_count": null,
   "metadata": {},
   "outputs": [],
   "source": []
  },
  {
   "cell_type": "code",
   "execution_count": null,
   "metadata": {},
   "outputs": [],
   "source": []
  }
 ],
 "metadata": {
  "kernelspec": {
   "display_name": "Python 3",
   "language": "python",
   "name": "python3"
  },
  "language_info": {
   "codemirror_mode": {
    "name": "ipython",
    "version": 3
   },
   "file_extension": ".py",
   "mimetype": "text/x-python",
   "name": "python",
   "nbconvert_exporter": "python",
   "pygments_lexer": "ipython3",
   "version": "3.7.3"
  }
 },
 "nbformat": 4,
 "nbformat_minor": 2
}
